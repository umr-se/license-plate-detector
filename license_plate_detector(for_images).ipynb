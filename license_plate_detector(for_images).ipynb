{
  "cells": [
    {
      "cell_type": "code",
      "execution_count": null,
      "metadata": {
        "colab": {
          "base_uri": "https://localhost:8080/"
        },
        "id": "S6vNLS11_oSR",
        "outputId": "03f0f1f4-32db-4500-dec7-11cf66d8887e"
      },
      "outputs": [],
      "source": [
        "!nvidia-smi"
      ]
    },
    {
      "cell_type": "code",
      "execution_count": null,
      "metadata": {
        "colab": {
          "base_uri": "https://localhost:8080/"
        },
        "id": "Vrnf2X1l_vwW",
        "outputId": "2ae2372a-2cea-4ba9-9484-7be066cb3da3"
      },
      "outputs": [],
      "source": [
        "!pip install ultralytics\n",
        "!pip install opencv-python-headless\n",
        "!pip install paddleocr\n",
        "!pip install paddlepaddle"
      ]
    },
    {
      "cell_type": "code",
      "execution_count": null,
      "metadata": {
        "colab": {
          "base_uri": "https://localhost:8080/"
        },
        "id": "ePP6dAUGAASK",
        "outputId": "398f52e7-0699-4acc-faa9-a9289c8c4537"
      },
      "outputs": [],
      "source": [
        "import ultralytics\n",
        "ultralytics.checks()\n",
        "from ultralytics import YOLO\n",
        "from IPython.display import Image"
      ]
    },
    {
      "cell_type": "code",
      "execution_count": null,
      "metadata": {
        "colab": {
          "base_uri": "https://localhost:8080/"
        },
        "id": "kt4nDkLPAIkY",
        "outputId": "ff51eeb3-683b-47f1-c9b2-f127a421b7ca"
      },
      "outputs": [],
      "source": [
        "!pip install roboflow\n",
        "from roboflow import Roboflow\n",
        "rf = Roboflow(api_key=\"your-api-key\")\n",
        "project = rf.workspace(\"sodtware-engineer\").project(\"license-detector-8ygy6\")\n",
        "version = project.version(1)\n",
        "dataset = version.download(\"yolov11\")\n"
      ]
    },
    {
      "cell_type": "code",
      "execution_count": null,
      "metadata": {
        "colab": {
          "base_uri": "https://localhost:8080/",
          "height": 35
        },
        "id": "l5_7mGdRAOvy",
        "outputId": "0bf25406-4a2a-41b3-c8d2-93b700d69a33"
      },
      "outputs": [],
      "source": [
        "dataset.location"
      ]
    },
    {
      "cell_type": "code",
      "execution_count": null,
      "metadata": {
        "colab": {
          "base_uri": "https://localhost:8080/"
        },
        "id": "IHlzVl3HASSL",
        "outputId": "ca056381-e59c-4feb-e5f7-a924d5530a71"
      },
      "outputs": [],
      "source": [
        "!yolo task=detect mode=train data={dataset.location}/data.yaml model=\"yolo11n.pt\" epochs=150 imgsz=640"
      ]
    },
    {
      "cell_type": "code",
      "execution_count": null,
      "metadata": {
        "colab": {
          "base_uri": "https://localhost:8080/"
        },
        "id": "o_bWgjkeQ6jL",
        "outputId": "468ec8fa-4bfd-4f50-8212-e95b6149f0cc"
      },
      "outputs": [],
      "source": [
        "!yolo task=detect mode=predict model=\"/content/model.pt\" conf=0.6 source={dataset.location}/test/images  save=True\n"
      ]
    },
    {
      "cell_type": "code",
      "execution_count": null,
      "metadata": {
        "colab": {
          "base_uri": "https://localhost:8080/"
        },
        "id": "J83vPqTr7sW2",
        "outputId": "134ec253-3395-44fa-a862-b76a83fb8a13"
      },
      "outputs": [],
      "source": [
        "# Install the necessary libraries\n",
        "from ultralytics import YOLO\n",
        "import cv2\n",
        "import os\n",
        "from paddleocr import PaddleOCR\n",
        "\n",
        "# Load the pre-trained YOLO model (replace with your new model path)\n",
        "model = YOLO('/content/model.pt')\n",
        "\n",
        "# Initialize PaddleOCR for text recognition\n",
        "ocr = PaddleOCR(use_angle_cls=True, lang='en')\n",
        "\n",
        "# Input folder containing images\n",
        "input_folder = '/content/License-Detector/test/images'\n",
        "\n",
        "# Get all image file names in the folder\n",
        "image_files = [f for f in os.listdir(input_folder) if f.lower().endswith(('.png', '.jpg', '.jpeg'))]\n",
        "\n",
        "# Minimum confidence threshold\n",
        "confidence_threshold = 0.7\n",
        "\n",
        "# Iterate over all image files in the input folder\n",
        "for image_file in image_files:\n",
        "    # Full path of the image\n",
        "    input_image_path = os.path.join(input_folder, image_file)\n",
        "\n",
        "    # Load the input image\n",
        "    image = cv2.imread(input_image_path)\n",
        "\n",
        "    # Perform detection on the image\n",
        "    results = model(image)\n",
        "\n",
        "    # Iterate over the detected objects\n",
        "    detected_text = \"\"\n",
        "    for result in results:\n",
        "        boxes = result.boxes\n",
        "        for box in boxes:\n",
        "            conf = box.conf[0]  # Confidence score\n",
        "\n",
        "            # Filter detections based on confidence\n",
        "            if conf < confidence_threshold:\n",
        "                continue\n",
        "\n",
        "            cls = int(box.cls[0])  # Class ID\n",
        "            label = model.names[cls]  # Class label\n",
        "            x1, y1, x2, y2 = map(int, box.xyxy[0])  # Bounding box coordinates\n",
        "\n",
        "            # Crop the bounding box area from the image\n",
        "            cropped_image = image[y1:y2, x1:x2]\n",
        "\n",
        "            # Use PaddleOCR to detect text within the cropped image\n",
        "            result_text = ocr.ocr(cropped_image, cls=True)\n",
        "\n",
        "            # Extract the detected text from the OCR result\n",
        "            for line in result_text[0]:\n",
        "                detected_text += line[1][0] + \" \"  # Append detected text\n",
        "\n",
        "    # Print the extracted text along with the image name\n",
        "    print(f\"Extracted text from {image_file}:\")\n",
        "    print(detected_text)\n",
        "    print(\"-\" * 50)  # Separator for clarity\n"
      ]
    }
  ],
  "metadata": {
    "accelerator": "GPU",
    "colab": {
      "gpuType": "T4",
      "provenance": []
    },
    "kernelspec": {
      "display_name": "Python 3",
      "name": "python3"
    },
    "language_info": {
      "name": "python"
    }
  },
  "nbformat": 4,
  "nbformat_minor": 0
}
